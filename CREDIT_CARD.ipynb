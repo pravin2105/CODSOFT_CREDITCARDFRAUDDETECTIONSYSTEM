{
  "nbformat": 4,
  "nbformat_minor": 0,
  "metadata": {
    "colab": {
      "provenance": [],
      "toc_visible": true
    },
    "kernelspec": {
      "name": "python3",
      "display_name": "Python 3"
    },
    "language_info": {
      "name": "python"
    }
  },
  "cells": [
    {
      "cell_type": "markdown",
      "source": [
        "**CREDIT CARD FRAUD DETECTION**\n",
        "\n"
      ],
      "metadata": {
        "id": "otl9Kl6fexy9"
      }
    },
    {
      "cell_type": "code",
      "source": [
        "#IMPORTING LIBRARIES\n",
        "\n",
        "import pandas as pd\n",
        "import seaborn as sns\n",
        "import matplotlib.pyplot as plt\n",
        "\n",
        "from sklearn.utils import resample\n",
        "from sklearn.model_selection import train_test_split\n",
        "\n",
        "import imblearn\n",
        "from imblearn.under_sampling import RandomUnderSampler, TomekLinks, ClusterCentroids, EditedNearestNeighbours\n",
        "from imblearn.over_sampling import RandomOverSampler, SMOTE, ADASYN\n",
        "from imblearn.combine import SMOTETomek\n",
        "from imblearn.ensemble import EasyEnsembleClassifier, RUSBoostClassifier\n",
        "from sklearn.ensemble import AdaBoostClassifier\n",
        "from sklearn.tree import DecisionTreeClassifier\n",
        "from sklearn.metrics import accuracy_score\n",
        "\n",
        "import warnings\n",
        "warnings.filterwarnings('ignore')"
      ],
      "metadata": {
        "id": "EBnkVCO0e6FW"
      },
      "execution_count": null,
      "outputs": []
    },
    {
      "cell_type": "code",
      "source": [
        "#load data from files\n",
        "\n",
        "df= pd.read_csv(\"/content/creditcard.csv\",error_bad_lines=False)\n",
        "df = df[['Class', 'Amount']]\n",
        "df.head()"
      ],
      "metadata": {
        "colab": {
          "base_uri": "https://localhost:8080/",
          "height": 241
        },
        "id": "_Qvxnio5fFll",
        "outputId": "46a1d0dd-342d-4a79-d85d-99bb0f4545dc"
      },
      "execution_count": null,
      "outputs": [
        {
          "output_type": "stream",
          "name": "stderr",
          "text": [
            "Skipping line 5966: expected 31 fields, saw 51\n",
            "\n"
          ]
        },
        {
          "output_type": "execute_result",
          "data": {
            "text/plain": [
              "   Class  Amount\n",
              "0    0.0  149.62\n",
              "1    0.0    2.69\n",
              "2    0.0  378.66\n",
              "3    0.0  123.50\n",
              "4    0.0   69.99"
            ],
            "text/html": [
              "\n",
              "  <div id=\"df-6f4d21a8-a594-4d49-994b-20591c83bd1f\" class=\"colab-df-container\">\n",
              "    <div>\n",
              "<style scoped>\n",
              "    .dataframe tbody tr th:only-of-type {\n",
              "        vertical-align: middle;\n",
              "    }\n",
              "\n",
              "    .dataframe tbody tr th {\n",
              "        vertical-align: top;\n",
              "    }\n",
              "\n",
              "    .dataframe thead th {\n",
              "        text-align: right;\n",
              "    }\n",
              "</style>\n",
              "<table border=\"1\" class=\"dataframe\">\n",
              "  <thead>\n",
              "    <tr style=\"text-align: right;\">\n",
              "      <th></th>\n",
              "      <th>Class</th>\n",
              "      <th>Amount</th>\n",
              "    </tr>\n",
              "  </thead>\n",
              "  <tbody>\n",
              "    <tr>\n",
              "      <th>0</th>\n",
              "      <td>0.0</td>\n",
              "      <td>149.62</td>\n",
              "    </tr>\n",
              "    <tr>\n",
              "      <th>1</th>\n",
              "      <td>0.0</td>\n",
              "      <td>2.69</td>\n",
              "    </tr>\n",
              "    <tr>\n",
              "      <th>2</th>\n",
              "      <td>0.0</td>\n",
              "      <td>378.66</td>\n",
              "    </tr>\n",
              "    <tr>\n",
              "      <th>3</th>\n",
              "      <td>0.0</td>\n",
              "      <td>123.50</td>\n",
              "    </tr>\n",
              "    <tr>\n",
              "      <th>4</th>\n",
              "      <td>0.0</td>\n",
              "      <td>69.99</td>\n",
              "    </tr>\n",
              "  </tbody>\n",
              "</table>\n",
              "</div>\n",
              "    <div class=\"colab-df-buttons\">\n",
              "\n",
              "  <div class=\"colab-df-container\">\n",
              "    <button class=\"colab-df-convert\" onclick=\"convertToInteractive('df-6f4d21a8-a594-4d49-994b-20591c83bd1f')\"\n",
              "            title=\"Convert this dataframe to an interactive table.\"\n",
              "            style=\"display:none;\">\n",
              "\n",
              "  <svg xmlns=\"http://www.w3.org/2000/svg\" height=\"24px\" viewBox=\"0 -960 960 960\">\n",
              "    <path d=\"M120-120v-720h720v720H120Zm60-500h600v-160H180v160Zm220 220h160v-160H400v160Zm0 220h160v-160H400v160ZM180-400h160v-160H180v160Zm440 0h160v-160H620v160ZM180-180h160v-160H180v160Zm440 0h160v-160H620v160Z\"/>\n",
              "  </svg>\n",
              "    </button>\n",
              "\n",
              "  <style>\n",
              "    .colab-df-container {\n",
              "      display:flex;\n",
              "      gap: 12px;\n",
              "    }\n",
              "\n",
              "    .colab-df-convert {\n",
              "      background-color: #E8F0FE;\n",
              "      border: none;\n",
              "      border-radius: 50%;\n",
              "      cursor: pointer;\n",
              "      display: none;\n",
              "      fill: #1967D2;\n",
              "      height: 32px;\n",
              "      padding: 0 0 0 0;\n",
              "      width: 32px;\n",
              "    }\n",
              "\n",
              "    .colab-df-convert:hover {\n",
              "      background-color: #E2EBFA;\n",
              "      box-shadow: 0px 1px 2px rgba(60, 64, 67, 0.3), 0px 1px 3px 1px rgba(60, 64, 67, 0.15);\n",
              "      fill: #174EA6;\n",
              "    }\n",
              "\n",
              "    .colab-df-buttons div {\n",
              "      margin-bottom: 4px;\n",
              "    }\n",
              "\n",
              "    [theme=dark] .colab-df-convert {\n",
              "      background-color: #3B4455;\n",
              "      fill: #D2E3FC;\n",
              "    }\n",
              "\n",
              "    [theme=dark] .colab-df-convert:hover {\n",
              "      background-color: #434B5C;\n",
              "      box-shadow: 0px 1px 3px 1px rgba(0, 0, 0, 0.15);\n",
              "      filter: drop-shadow(0px 1px 2px rgba(0, 0, 0, 0.3));\n",
              "      fill: #FFFFFF;\n",
              "    }\n",
              "  </style>\n",
              "\n",
              "    <script>\n",
              "      const buttonEl =\n",
              "        document.querySelector('#df-6f4d21a8-a594-4d49-994b-20591c83bd1f button.colab-df-convert');\n",
              "      buttonEl.style.display =\n",
              "        google.colab.kernel.accessAllowed ? 'block' : 'none';\n",
              "\n",
              "      async function convertToInteractive(key) {\n",
              "        const element = document.querySelector('#df-6f4d21a8-a594-4d49-994b-20591c83bd1f');\n",
              "        const dataTable =\n",
              "          await google.colab.kernel.invokeFunction('convertToInteractive',\n",
              "                                                    [key], {});\n",
              "        if (!dataTable) return;\n",
              "\n",
              "        const docLinkHtml = 'Like what you see? Visit the ' +\n",
              "          '<a target=\"_blank\" href=https://colab.research.google.com/notebooks/data_table.ipynb>data table notebook</a>'\n",
              "          + ' to learn more about interactive tables.';\n",
              "        element.innerHTML = '';\n",
              "        dataTable['output_type'] = 'display_data';\n",
              "        await google.colab.output.renderOutput(dataTable, element);\n",
              "        const docLink = document.createElement('div');\n",
              "        docLink.innerHTML = docLinkHtml;\n",
              "        element.appendChild(docLink);\n",
              "      }\n",
              "    </script>\n",
              "  </div>\n",
              "\n",
              "\n",
              "<div id=\"df-b44a091f-55c5-4cae-b82d-2820a46e3d93\">\n",
              "  <button class=\"colab-df-quickchart\" onclick=\"quickchart('df-b44a091f-55c5-4cae-b82d-2820a46e3d93')\"\n",
              "            title=\"Suggest charts\"\n",
              "            style=\"display:none;\">\n",
              "\n",
              "<svg xmlns=\"http://www.w3.org/2000/svg\" height=\"24px\"viewBox=\"0 0 24 24\"\n",
              "     width=\"24px\">\n",
              "    <g>\n",
              "        <path d=\"M19 3H5c-1.1 0-2 .9-2 2v14c0 1.1.9 2 2 2h14c1.1 0 2-.9 2-2V5c0-1.1-.9-2-2-2zM9 17H7v-7h2v7zm4 0h-2V7h2v10zm4 0h-2v-4h2v4z\"/>\n",
              "    </g>\n",
              "</svg>\n",
              "  </button>\n",
              "\n",
              "<style>\n",
              "  .colab-df-quickchart {\n",
              "      --bg-color: #E8F0FE;\n",
              "      --fill-color: #1967D2;\n",
              "      --hover-bg-color: #E2EBFA;\n",
              "      --hover-fill-color: #174EA6;\n",
              "      --disabled-fill-color: #AAA;\n",
              "      --disabled-bg-color: #DDD;\n",
              "  }\n",
              "\n",
              "  [theme=dark] .colab-df-quickchart {\n",
              "      --bg-color: #3B4455;\n",
              "      --fill-color: #D2E3FC;\n",
              "      --hover-bg-color: #434B5C;\n",
              "      --hover-fill-color: #FFFFFF;\n",
              "      --disabled-bg-color: #3B4455;\n",
              "      --disabled-fill-color: #666;\n",
              "  }\n",
              "\n",
              "  .colab-df-quickchart {\n",
              "    background-color: var(--bg-color);\n",
              "    border: none;\n",
              "    border-radius: 50%;\n",
              "    cursor: pointer;\n",
              "    display: none;\n",
              "    fill: var(--fill-color);\n",
              "    height: 32px;\n",
              "    padding: 0;\n",
              "    width: 32px;\n",
              "  }\n",
              "\n",
              "  .colab-df-quickchart:hover {\n",
              "    background-color: var(--hover-bg-color);\n",
              "    box-shadow: 0 1px 2px rgba(60, 64, 67, 0.3), 0 1px 3px 1px rgba(60, 64, 67, 0.15);\n",
              "    fill: var(--button-hover-fill-color);\n",
              "  }\n",
              "\n",
              "  .colab-df-quickchart-complete:disabled,\n",
              "  .colab-df-quickchart-complete:disabled:hover {\n",
              "    background-color: var(--disabled-bg-color);\n",
              "    fill: var(--disabled-fill-color);\n",
              "    box-shadow: none;\n",
              "  }\n",
              "\n",
              "  .colab-df-spinner {\n",
              "    border: 2px solid var(--fill-color);\n",
              "    border-color: transparent;\n",
              "    border-bottom-color: var(--fill-color);\n",
              "    animation:\n",
              "      spin 1s steps(1) infinite;\n",
              "  }\n",
              "\n",
              "  @keyframes spin {\n",
              "    0% {\n",
              "      border-color: transparent;\n",
              "      border-bottom-color: var(--fill-color);\n",
              "      border-left-color: var(--fill-color);\n",
              "    }\n",
              "    20% {\n",
              "      border-color: transparent;\n",
              "      border-left-color: var(--fill-color);\n",
              "      border-top-color: var(--fill-color);\n",
              "    }\n",
              "    30% {\n",
              "      border-color: transparent;\n",
              "      border-left-color: var(--fill-color);\n",
              "      border-top-color: var(--fill-color);\n",
              "      border-right-color: var(--fill-color);\n",
              "    }\n",
              "    40% {\n",
              "      border-color: transparent;\n",
              "      border-right-color: var(--fill-color);\n",
              "      border-top-color: var(--fill-color);\n",
              "    }\n",
              "    60% {\n",
              "      border-color: transparent;\n",
              "      border-right-color: var(--fill-color);\n",
              "    }\n",
              "    80% {\n",
              "      border-color: transparent;\n",
              "      border-right-color: var(--fill-color);\n",
              "      border-bottom-color: var(--fill-color);\n",
              "    }\n",
              "    90% {\n",
              "      border-color: transparent;\n",
              "      border-bottom-color: var(--fill-color);\n",
              "    }\n",
              "  }\n",
              "</style>\n",
              "\n",
              "  <script>\n",
              "    async function quickchart(key) {\n",
              "      const quickchartButtonEl =\n",
              "        document.querySelector('#' + key + ' button');\n",
              "      quickchartButtonEl.disabled = true;  // To prevent multiple clicks.\n",
              "      quickchartButtonEl.classList.add('colab-df-spinner');\n",
              "      try {\n",
              "        const charts = await google.colab.kernel.invokeFunction(\n",
              "            'suggestCharts', [key], {});\n",
              "      } catch (error) {\n",
              "        console.error('Error during call to suggestCharts:', error);\n",
              "      }\n",
              "      quickchartButtonEl.classList.remove('colab-df-spinner');\n",
              "      quickchartButtonEl.classList.add('colab-df-quickchart-complete');\n",
              "    }\n",
              "    (() => {\n",
              "      let quickchartButtonEl =\n",
              "        document.querySelector('#df-b44a091f-55c5-4cae-b82d-2820a46e3d93 button');\n",
              "      quickchartButtonEl.style.display =\n",
              "        google.colab.kernel.accessAllowed ? 'block' : 'none';\n",
              "    })();\n",
              "  </script>\n",
              "</div>\n",
              "\n",
              "    </div>\n",
              "  </div>\n"
            ]
          },
          "metadata": {},
          "execution_count": 5
        }
      ]
    },
    {
      "cell_type": "markdown",
      "source": [
        "check for negative values"
      ],
      "metadata": {
        "id": "CUqJgTBvfuwG"
      }
    },
    {
      "cell_type": "code",
      "source": [
        "print((df < 0).any())"
      ],
      "metadata": {
        "colab": {
          "base_uri": "https://localhost:8080/"
        },
        "id": "F1GcJ8APfygB",
        "outputId": "a42d724b-eff4-4ca6-baaa-46a443248926"
      },
      "execution_count": null,
      "outputs": [
        {
          "output_type": "stream",
          "name": "stdout",
          "text": [
            "Class     False\n",
            "Amount    False\n",
            "dtype: bool\n"
          ]
        }
      ]
    },
    {
      "cell_type": "markdown",
      "source": [
        "check for missing values"
      ],
      "metadata": {
        "id": "qW9NwiLSf3w8"
      }
    },
    {
      "cell_type": "code",
      "source": [
        "percent_missing = df.isnull().sum() * 100 / len(df)\n",
        "\n",
        "# Construct a DataFrame to display the results\n",
        "nans = pd.DataFrame({\n",
        "    'col_name': percent_missing.index,\n",
        "    'percent_missing': percent_missing.values\n",
        "})\n",
        "\n",
        "print(nans)\n"
      ],
      "metadata": {
        "colab": {
          "base_uri": "https://localhost:8080/"
        },
        "id": "T7gRJ9pMf74k",
        "outputId": "b24b916c-e2cb-476d-da39-168f0d3aa52b"
      },
      "execution_count": null,
      "outputs": [
        {
          "output_type": "stream",
          "name": "stdout",
          "text": [
            "  col_name  percent_missing\n",
            "0    Class         0.007880\n",
            "1   Amount         0.006304\n"
          ]
        }
      ]
    },
    {
      "cell_type": "code",
      "source": [
        "df.dropna()"
      ],
      "metadata": {
        "colab": {
          "base_uri": "https://localhost:8080/",
          "height": 423
        },
        "id": "cs9DpaTQh-Hf",
        "outputId": "e4c96659-114b-4199-d504-5c2faec49f4d"
      },
      "execution_count": null,
      "outputs": [
        {
          "output_type": "execute_result",
          "data": {
            "text/plain": [
              "       Class  Amount\n",
              "0        0.0  149.62\n",
              "1        0.0    2.69\n",
              "2        0.0  378.66\n",
              "3        0.0  123.50\n",
              "4        0.0   69.99\n",
              "...      ...     ...\n",
              "63447    0.0   36.59\n",
              "63448    0.0    0.76\n",
              "63449    0.0   42.90\n",
              "63450    0.0    1.98\n",
              "63451    0.0  113.65\n",
              "\n",
              "[63448 rows x 2 columns]"
            ],
            "text/html": [
              "\n",
              "  <div id=\"df-a351934e-a10c-446a-bb67-3389a1eb6b5b\" class=\"colab-df-container\">\n",
              "    <div>\n",
              "<style scoped>\n",
              "    .dataframe tbody tr th:only-of-type {\n",
              "        vertical-align: middle;\n",
              "    }\n",
              "\n",
              "    .dataframe tbody tr th {\n",
              "        vertical-align: top;\n",
              "    }\n",
              "\n",
              "    .dataframe thead th {\n",
              "        text-align: right;\n",
              "    }\n",
              "</style>\n",
              "<table border=\"1\" class=\"dataframe\">\n",
              "  <thead>\n",
              "    <tr style=\"text-align: right;\">\n",
              "      <th></th>\n",
              "      <th>Class</th>\n",
              "      <th>Amount</th>\n",
              "    </tr>\n",
              "  </thead>\n",
              "  <tbody>\n",
              "    <tr>\n",
              "      <th>0</th>\n",
              "      <td>0.0</td>\n",
              "      <td>149.62</td>\n",
              "    </tr>\n",
              "    <tr>\n",
              "      <th>1</th>\n",
              "      <td>0.0</td>\n",
              "      <td>2.69</td>\n",
              "    </tr>\n",
              "    <tr>\n",
              "      <th>2</th>\n",
              "      <td>0.0</td>\n",
              "      <td>378.66</td>\n",
              "    </tr>\n",
              "    <tr>\n",
              "      <th>3</th>\n",
              "      <td>0.0</td>\n",
              "      <td>123.50</td>\n",
              "    </tr>\n",
              "    <tr>\n",
              "      <th>4</th>\n",
              "      <td>0.0</td>\n",
              "      <td>69.99</td>\n",
              "    </tr>\n",
              "    <tr>\n",
              "      <th>...</th>\n",
              "      <td>...</td>\n",
              "      <td>...</td>\n",
              "    </tr>\n",
              "    <tr>\n",
              "      <th>63447</th>\n",
              "      <td>0.0</td>\n",
              "      <td>36.59</td>\n",
              "    </tr>\n",
              "    <tr>\n",
              "      <th>63448</th>\n",
              "      <td>0.0</td>\n",
              "      <td>0.76</td>\n",
              "    </tr>\n",
              "    <tr>\n",
              "      <th>63449</th>\n",
              "      <td>0.0</td>\n",
              "      <td>42.90</td>\n",
              "    </tr>\n",
              "    <tr>\n",
              "      <th>63450</th>\n",
              "      <td>0.0</td>\n",
              "      <td>1.98</td>\n",
              "    </tr>\n",
              "    <tr>\n",
              "      <th>63451</th>\n",
              "      <td>0.0</td>\n",
              "      <td>113.65</td>\n",
              "    </tr>\n",
              "  </tbody>\n",
              "</table>\n",
              "<p>63448 rows × 2 columns</p>\n",
              "</div>\n",
              "    <div class=\"colab-df-buttons\">\n",
              "\n",
              "  <div class=\"colab-df-container\">\n",
              "    <button class=\"colab-df-convert\" onclick=\"convertToInteractive('df-a351934e-a10c-446a-bb67-3389a1eb6b5b')\"\n",
              "            title=\"Convert this dataframe to an interactive table.\"\n",
              "            style=\"display:none;\">\n",
              "\n",
              "  <svg xmlns=\"http://www.w3.org/2000/svg\" height=\"24px\" viewBox=\"0 -960 960 960\">\n",
              "    <path d=\"M120-120v-720h720v720H120Zm60-500h600v-160H180v160Zm220 220h160v-160H400v160Zm0 220h160v-160H400v160ZM180-400h160v-160H180v160Zm440 0h160v-160H620v160ZM180-180h160v-160H180v160Zm440 0h160v-160H620v160Z\"/>\n",
              "  </svg>\n",
              "    </button>\n",
              "\n",
              "  <style>\n",
              "    .colab-df-container {\n",
              "      display:flex;\n",
              "      gap: 12px;\n",
              "    }\n",
              "\n",
              "    .colab-df-convert {\n",
              "      background-color: #E8F0FE;\n",
              "      border: none;\n",
              "      border-radius: 50%;\n",
              "      cursor: pointer;\n",
              "      display: none;\n",
              "      fill: #1967D2;\n",
              "      height: 32px;\n",
              "      padding: 0 0 0 0;\n",
              "      width: 32px;\n",
              "    }\n",
              "\n",
              "    .colab-df-convert:hover {\n",
              "      background-color: #E2EBFA;\n",
              "      box-shadow: 0px 1px 2px rgba(60, 64, 67, 0.3), 0px 1px 3px 1px rgba(60, 64, 67, 0.15);\n",
              "      fill: #174EA6;\n",
              "    }\n",
              "\n",
              "    .colab-df-buttons div {\n",
              "      margin-bottom: 4px;\n",
              "    }\n",
              "\n",
              "    [theme=dark] .colab-df-convert {\n",
              "      background-color: #3B4455;\n",
              "      fill: #D2E3FC;\n",
              "    }\n",
              "\n",
              "    [theme=dark] .colab-df-convert:hover {\n",
              "      background-color: #434B5C;\n",
              "      box-shadow: 0px 1px 3px 1px rgba(0, 0, 0, 0.15);\n",
              "      filter: drop-shadow(0px 1px 2px rgba(0, 0, 0, 0.3));\n",
              "      fill: #FFFFFF;\n",
              "    }\n",
              "  </style>\n",
              "\n",
              "    <script>\n",
              "      const buttonEl =\n",
              "        document.querySelector('#df-a351934e-a10c-446a-bb67-3389a1eb6b5b button.colab-df-convert');\n",
              "      buttonEl.style.display =\n",
              "        google.colab.kernel.accessAllowed ? 'block' : 'none';\n",
              "\n",
              "      async function convertToInteractive(key) {\n",
              "        const element = document.querySelector('#df-a351934e-a10c-446a-bb67-3389a1eb6b5b');\n",
              "        const dataTable =\n",
              "          await google.colab.kernel.invokeFunction('convertToInteractive',\n",
              "                                                    [key], {});\n",
              "        if (!dataTable) return;\n",
              "\n",
              "        const docLinkHtml = 'Like what you see? Visit the ' +\n",
              "          '<a target=\"_blank\" href=https://colab.research.google.com/notebooks/data_table.ipynb>data table notebook</a>'\n",
              "          + ' to learn more about interactive tables.';\n",
              "        element.innerHTML = '';\n",
              "        dataTable['output_type'] = 'display_data';\n",
              "        await google.colab.output.renderOutput(dataTable, element);\n",
              "        const docLink = document.createElement('div');\n",
              "        docLink.innerHTML = docLinkHtml;\n",
              "        element.appendChild(docLink);\n",
              "      }\n",
              "    </script>\n",
              "  </div>\n",
              "\n",
              "\n",
              "<div id=\"df-cea93af1-8d22-41c1-bd5e-a33a290bc36d\">\n",
              "  <button class=\"colab-df-quickchart\" onclick=\"quickchart('df-cea93af1-8d22-41c1-bd5e-a33a290bc36d')\"\n",
              "            title=\"Suggest charts\"\n",
              "            style=\"display:none;\">\n",
              "\n",
              "<svg xmlns=\"http://www.w3.org/2000/svg\" height=\"24px\"viewBox=\"0 0 24 24\"\n",
              "     width=\"24px\">\n",
              "    <g>\n",
              "        <path d=\"M19 3H5c-1.1 0-2 .9-2 2v14c0 1.1.9 2 2 2h14c1.1 0 2-.9 2-2V5c0-1.1-.9-2-2-2zM9 17H7v-7h2v7zm4 0h-2V7h2v10zm4 0h-2v-4h2v4z\"/>\n",
              "    </g>\n",
              "</svg>\n",
              "  </button>\n",
              "\n",
              "<style>\n",
              "  .colab-df-quickchart {\n",
              "      --bg-color: #E8F0FE;\n",
              "      --fill-color: #1967D2;\n",
              "      --hover-bg-color: #E2EBFA;\n",
              "      --hover-fill-color: #174EA6;\n",
              "      --disabled-fill-color: #AAA;\n",
              "      --disabled-bg-color: #DDD;\n",
              "  }\n",
              "\n",
              "  [theme=dark] .colab-df-quickchart {\n",
              "      --bg-color: #3B4455;\n",
              "      --fill-color: #D2E3FC;\n",
              "      --hover-bg-color: #434B5C;\n",
              "      --hover-fill-color: #FFFFFF;\n",
              "      --disabled-bg-color: #3B4455;\n",
              "      --disabled-fill-color: #666;\n",
              "  }\n",
              "\n",
              "  .colab-df-quickchart {\n",
              "    background-color: var(--bg-color);\n",
              "    border: none;\n",
              "    border-radius: 50%;\n",
              "    cursor: pointer;\n",
              "    display: none;\n",
              "    fill: var(--fill-color);\n",
              "    height: 32px;\n",
              "    padding: 0;\n",
              "    width: 32px;\n",
              "  }\n",
              "\n",
              "  .colab-df-quickchart:hover {\n",
              "    background-color: var(--hover-bg-color);\n",
              "    box-shadow: 0 1px 2px rgba(60, 64, 67, 0.3), 0 1px 3px 1px rgba(60, 64, 67, 0.15);\n",
              "    fill: var(--button-hover-fill-color);\n",
              "  }\n",
              "\n",
              "  .colab-df-quickchart-complete:disabled,\n",
              "  .colab-df-quickchart-complete:disabled:hover {\n",
              "    background-color: var(--disabled-bg-color);\n",
              "    fill: var(--disabled-fill-color);\n",
              "    box-shadow: none;\n",
              "  }\n",
              "\n",
              "  .colab-df-spinner {\n",
              "    border: 2px solid var(--fill-color);\n",
              "    border-color: transparent;\n",
              "    border-bottom-color: var(--fill-color);\n",
              "    animation:\n",
              "      spin 1s steps(1) infinite;\n",
              "  }\n",
              "\n",
              "  @keyframes spin {\n",
              "    0% {\n",
              "      border-color: transparent;\n",
              "      border-bottom-color: var(--fill-color);\n",
              "      border-left-color: var(--fill-color);\n",
              "    }\n",
              "    20% {\n",
              "      border-color: transparent;\n",
              "      border-left-color: var(--fill-color);\n",
              "      border-top-color: var(--fill-color);\n",
              "    }\n",
              "    30% {\n",
              "      border-color: transparent;\n",
              "      border-left-color: var(--fill-color);\n",
              "      border-top-color: var(--fill-color);\n",
              "      border-right-color: var(--fill-color);\n",
              "    }\n",
              "    40% {\n",
              "      border-color: transparent;\n",
              "      border-right-color: var(--fill-color);\n",
              "      border-top-color: var(--fill-color);\n",
              "    }\n",
              "    60% {\n",
              "      border-color: transparent;\n",
              "      border-right-color: var(--fill-color);\n",
              "    }\n",
              "    80% {\n",
              "      border-color: transparent;\n",
              "      border-right-color: var(--fill-color);\n",
              "      border-bottom-color: var(--fill-color);\n",
              "    }\n",
              "    90% {\n",
              "      border-color: transparent;\n",
              "      border-bottom-color: var(--fill-color);\n",
              "    }\n",
              "  }\n",
              "</style>\n",
              "\n",
              "  <script>\n",
              "    async function quickchart(key) {\n",
              "      const quickchartButtonEl =\n",
              "        document.querySelector('#' + key + ' button');\n",
              "      quickchartButtonEl.disabled = true;  // To prevent multiple clicks.\n",
              "      quickchartButtonEl.classList.add('colab-df-spinner');\n",
              "      try {\n",
              "        const charts = await google.colab.kernel.invokeFunction(\n",
              "            'suggestCharts', [key], {});\n",
              "      } catch (error) {\n",
              "        console.error('Error during call to suggestCharts:', error);\n",
              "      }\n",
              "      quickchartButtonEl.classList.remove('colab-df-spinner');\n",
              "      quickchartButtonEl.classList.add('colab-df-quickchart-complete');\n",
              "    }\n",
              "    (() => {\n",
              "      let quickchartButtonEl =\n",
              "        document.querySelector('#df-cea93af1-8d22-41c1-bd5e-a33a290bc36d button');\n",
              "      quickchartButtonEl.style.display =\n",
              "        google.colab.kernel.accessAllowed ? 'block' : 'none';\n",
              "    })();\n",
              "  </script>\n",
              "</div>\n",
              "\n",
              "    </div>\n",
              "  </div>\n"
            ]
          },
          "metadata": {},
          "execution_count": 21
        }
      ]
    },
    {
      "cell_type": "code",
      "source": [
        "#Dropping null values\n",
        "df.dropna(how='any', inplace=True)"
      ],
      "metadata": {
        "id": "iZne86AziHgt"
      },
      "execution_count": null,
      "outputs": []
    },
    {
      "cell_type": "code",
      "source": [
        "percent_missing = df.isnull().sum() * 100 / len(df)\n",
        "\n",
        "# Construct a DataFrame to display the results\n",
        "nans = pd.DataFrame({\n",
        "    'col_name': percent_missing.index,\n",
        "    'percent_missing': percent_missing.values\n",
        "})\n",
        "\n",
        "print(nans)\n"
      ],
      "metadata": {
        "colab": {
          "base_uri": "https://localhost:8080/"
        },
        "id": "9cwKBOhKjEad",
        "outputId": "d52a9b5f-9bbc-407b-90d9-9aa58c82c695"
      },
      "execution_count": null,
      "outputs": [
        {
          "output_type": "stream",
          "name": "stdout",
          "text": [
            "  col_name  percent_missing\n",
            "0    Class              0.0\n",
            "1   Amount              0.0\n"
          ]
        }
      ]
    },
    {
      "cell_type": "markdown",
      "source": [
        "Check for Data Imbalance"
      ],
      "metadata": {
        "id": "AXYjj4ASgCKM"
      }
    },
    {
      "cell_type": "code",
      "source": [
        "plt.figure(figsize=(5,5))\n",
        "ax = sns.countplot(x = df['Class'], data = df, palette=\"pastel\")\n",
        "for i in ax.containers:\n",
        "    ax.bar_label(i,)"
      ],
      "metadata": {
        "colab": {
          "base_uri": "https://localhost:8080/",
          "height": 465
        },
        "id": "mx9ZvhWDgESI",
        "outputId": "a52bfd19-d911-4ccc-c17b-b90d14799c23"
      },
      "execution_count": null,
      "outputs": [
        {
          "output_type": "display_data",
          "data": {
            "text/plain": [
              "<Figure size 500x500 with 1 Axes>"
            ],
            "image/png": "[encoded data removed]"
          },
          "metadata": {}
        }
      ]
    },
    {
      "cell_type": "code",
      "source": [
        "print('Dataset size: ', len(df))\n",
        "print('Not Fraud:', round(df['Class'].value_counts()[0]/len(df) * 100,2), '% of the dataset')\n",
        "print('Fraud:', round(df['Class'].value_counts()[1]/len(df) * 100,2), '% of the dataset')"
      ],
      "metadata": {
        "colab": {
          "base_uri": "https://localhost:8080/"
        },
        "id": "s8CVMTQFgGTF",
        "outputId": "99cc0ec8-9e82-445b-dd29-136d158cf6ee"
      },
      "execution_count": null,
      "outputs": [
        {
          "output_type": "stream",
          "name": "stdout",
          "text": [
            "Dataset size:  63448\n",
            "Not Fraud: 99.77 % of the dataset\n",
            "Fraud: 0.23 % of the dataset\n"
          ]
        }
      ]
    },
    {
      "cell_type": "markdown",
      "source": [
        "Train/Test Split"
      ],
      "metadata": {
        "id": "hoP9BpFCgbYO"
      }
    },
    {
      "cell_type": "code",
      "source": [
        "target = df['Class']\n",
        "x = df['Amount']\n",
        "\n",
        "X_train, X_test, y_train, y_test = train_test_split(x, target, test_size = 0.3, random_state = 42)"
      ],
      "metadata": {
        "id": "qQWj_x1vgdYt"
      },
      "execution_count": null,
      "outputs": []
    },
    {
      "cell_type": "code",
      "source": [
        "print(\"Training set size:\", len(X_train))\n",
        "print(\"Testing set size:\", len(X_test))"
      ],
      "metadata": {
        "colab": {
          "base_uri": "https://localhost:8080/"
        },
        "id": "JZsbL6WDgfjO",
        "outputId": "2e67f4e2-9341-4ad0-9dbf-b68fc8d4af27"
      },
      "execution_count": null,
      "outputs": [
        {
          "output_type": "stream",
          "name": "stdout",
          "text": [
            "Training set size: 44413\n",
            "Testing set size: 19035\n"
          ]
        }
      ]
    },
    {
      "cell_type": "code",
      "source": [
        "zeros_count_or = (y_train == 0).sum().sum()\n",
        "ones_count_or = (y_train == 1).sum().sum()\n",
        "\n",
        "zeros_percentage_or = (zeros_count_or / len(y_train)) * 100\n",
        "ones_percentage_or = (ones_count_or / len(y_train)) * 100\n",
        "\n",
        "print(f\"Not fraud in the original training data: {zeros_percentage_or:.2f}%\")\n",
        "print(f\"Fraud in the original training data: {ones_percentage_or:.2f}%\\n\")\n",
        "\n",
        "print(\"Number Fraud points in the original training data:\", zeros_count_or)\n",
        "print(\"Number Not fraud points in the original training data:\", ones_count_or)"
      ],
      "metadata": {
        "colab": {
          "base_uri": "https://localhost:8080/"
        },
        "id": "CpOkD9Qpghv3",
        "outputId": "f76d7c01-7fad-43e8-b81c-a1c960d3c11b"
      },
      "execution_count": null,
      "outputs": [
        {
          "output_type": "stream",
          "name": "stdout",
          "text": [
            "Not fraud in the original training data: 99.76%\n",
            "Fraud in the original training data: 0.24%\n",
            "\n",
            "Number Fraud points in the original training data: 44307\n",
            "Number Not fraud points in the original training data: 106\n"
          ]
        }
      ]
    },
    {
      "cell_type": "markdown",
      "source": [
        "Data Imbalance Techniques"
      ],
      "metadata": {
        "id": "ad13hF1GgmjV"
      }
    },
    {
      "cell_type": "code",
      "source": [
        "train_df = pd.concat([X_train,y_train],axis=1)\n",
        "\n",
        "\n",
        "not_fraud = train_df[train_df.Class==0]\n",
        "fraud = train_df[train_df .Class==1]\n",
        "\n",
        "# upsample minority\n",
        "fraud_upsampled = resample(fraud,\n",
        "                          replace = True, # sample with replacement\n",
        "                          n_samples = len(not_fraud), # match number in majority class\n",
        "                          random_state = 27) # reproducible results\n",
        "\n",
        "# combine majority and upsampled minority\n",
        "upsampled = pd.concat([not_fraud, fraud_upsampled])\n",
        "\n",
        "zeros_count = (upsampled.Class == 0).sum()\n",
        "ones_count = (upsampled.Class == 1).sum()\n",
        "total_count = len(upsampled)\n",
        "\n",
        "zeros_percentage = (zeros_count / total_count) * 100\n",
        "ones_percentage = (ones_count / total_count) * 100\n",
        "\n",
        "print(f\"Not fraud in oversampled data: {zeros_percentage:.2f}%\")\n",
        "print(f\"Fraud in oversampled data: {ones_percentage:.2f}%\\n\")\n",
        "print(\"Number of Not fraud points in oversampled data:\", zeros_count)\n",
        "print(\"Number of Fraud points in oversampled data:\", ones_count)"
      ],
      "metadata": {
        "colab": {
          "base_uri": "https://localhost:8080/"
        },
        "id": "PHVLoyjUgonN",
        "outputId": "bcfb2f8a-554b-4a9f-9007-1c3e9c16d679"
      },
      "execution_count": null,
      "outputs": [
        {
          "output_type": "stream",
          "name": "stdout",
          "text": [
            "Not fraud in oversampled data: 50.00%\n",
            "Fraud in oversampled data: 50.00%\n",
            "\n",
            "Number of Not fraud points in oversampled data: 44307\n",
            "Number of Fraud points in oversampled data: 44307\n"
          ]
        }
      ]
    },
    {
      "cell_type": "code",
      "source": [
        "plt.figure(figsize=(5,5))\n",
        "ax = sns.countplot(x = upsampled['Class'], data = upsampled, palette=\"pastel\")\n",
        "for i in ax.containers:\n",
        "    ax.bar_label(i,)"
      ],
      "metadata": {
        "colab": {
          "base_uri": "https://localhost:8080/",
          "height": 465
        },
        "id": "7khlkIfxgtX9",
        "outputId": "519ebb7a-3d68-4acf-facd-a7a687fbd043"
      },
      "execution_count": null,
      "outputs": [
        {
          "output_type": "display_data",
          "data": {
            "text/plain": [
              "<Figure size 500x500 with 1 Axes>"
            ],
            "image/png": "[encoded data removed]"
          },
          "metadata": {}
        }
      ]
    },
    {
      "cell_type": "markdown",
      "source": [
        "Undersampling"
      ],
      "metadata": {
        "id": "qaUPMFcig6se"
      }
    },
    {
      "cell_type": "code",
      "source": [
        "nfraud_undersampled = resample(not_fraud,\n",
        "                                replace = False, # sample without replacement\n",
        "                                n_samples = len(fraud), # match minority n\n",
        "                                random_state = 27) # reproducible results\n",
        "\n",
        "# combine minority and downsampled majority\n",
        "undersampled = pd.concat([nfraud_undersampled, fraud])\n",
        "\n",
        "zeros_count = (undersampled.Class == 0).sum()\n",
        "ones_count = (undersampled.Class == 1).sum()\n",
        "total_count = len(undersampled)\n",
        "\n",
        "zeros_percentage = (zeros_count / total_count) * 100\n",
        "ones_percentage = (ones_count / total_count) * 100\n",
        "\n",
        "# Print the results\n",
        "print(f\"Not fraud in undersampled data: {zeros_percentage:.2f}%\")\n",
        "print(f\"Fraud in undersampled data: {ones_percentage:.2f}%\\n\")\n",
        "print(\"Number of Not fraud points in undersampled data:\", zeros_count)\n",
        "print(\"Number of Fraud points in undersampled data:\", ones_count)"
      ],
      "metadata": {
        "colab": {
          "base_uri": "https://localhost:8080/"
        },
        "id": "QNPbpaJhg8dO",
        "outputId": "dad09214-9a5a-47d8-b121-339260740d95"
      },
      "execution_count": null,
      "outputs": [
        {
          "output_type": "stream",
          "name": "stdout",
          "text": [
            "Not fraud in undersampled data: 50.00%\n",
            "Fraud in undersampled data: 50.00%\n",
            "\n",
            "Number of Not fraud points in undersampled data: 106\n",
            "Number of Fraud points in undersampled data: 106\n"
          ]
        }
      ]
    },
    {
      "cell_type": "code",
      "source": [
        "plt.figure(figsize=(5,5))\n",
        "ax = sns.countplot(x = undersampled['Class'], data = upsampled, palette=\"pastel\")\n",
        "for i in ax.containers:\n",
        "    ax.bar_label(i,)"
      ],
      "metadata": {
        "colab": {
          "base_uri": "https://localhost:8080/",
          "height": 465
        },
        "id": "6DiyOXH2g-mg",
        "outputId": "3565ead6-be86-42ad-91fb-0232852af628"
      },
      "execution_count": null,
      "outputs": [
        {
          "output_type": "display_data",
          "data": {
            "text/plain": [
              "<Figure size 500x500 with 1 Axes>"
            ],
            "image/png": "[encoded data removed]"
          },
          "metadata": {}
        }
      ]
    },
    {
      "cell_type": "markdown",
      "source": [
        " Random Oversampling Using Imblearn"
      ],
      "metadata": {
        "id": "oPvLALd6hHfu"
      }
    },
    {
      "cell_type": "code",
      "source": [
        "X_train_reshaped = X_train.values.reshape(-1, 1)\n",
        "X_test_reshaped = X_test.values.reshape(-1, 1)\n",
        "\n",
        "random_oversampler = RandomOverSampler(sampling_strategy='auto')\n",
        "X_over, y_over = random_oversampler.fit_resample(X_train_reshaped, y_train)\n",
        "\n",
        "zeros_count = (y_over == 0).sum()\n",
        "ones_count = (y_over == 1).sum()\n",
        "total_count = len(y_over)\n",
        "\n",
        "zeros_percentage = (zeros_count / total_count) * 100\n",
        "ones_percentage = (ones_count / total_count) * 100\n",
        "\n",
        "# Print the results\n",
        "print(f\"Not fraud in oversampled data: {zeros_percentage:.2f}%\")\n",
        "print(f\"Fraud in oversampled data: {ones_percentage:.2f}%\\n\")\n",
        "print(\"Number of Not fraud points in oversampled data:\", zeros_count)\n",
        "print(\"Number of Fraud points in oversampled data:\", ones_count)"
      ],
      "metadata": {
        "colab": {
          "base_uri": "https://localhost:8080/"
        },
        "id": "ylsjhq4HhITD",
        "outputId": "90d8cc93-def4-41db-d8be-72769b7592a6"
      },
      "execution_count": null,
      "outputs": [
        {
          "output_type": "stream",
          "name": "stdout",
          "text": [
            "Not fraud in oversampled data: 50.00%\n",
            "Fraud in oversampled data: 50.00%\n",
            "\n",
            "Number of Not fraud points in oversampled data: 44307\n",
            "Number of Fraud points in oversampled data: 44307\n"
          ]
        }
      ]
    },
    {
      "cell_type": "code",
      "source": [
        "random_undsampler = RandomUnderSampler(sampling_strategy='auto')\n",
        "X_under, y_under = random_undsampler.fit_resample(X_train_reshaped, y_train)\n",
        "\n",
        "# Calculate the counts and percentages\n",
        "zeros_count = (y_under == 0).sum()\n",
        "ones_count = (y_under == 1).sum()\n",
        "total_count = len(y_under)\n",
        "\n",
        "zeros_percentage = (zeros_count / total_count) * 100\n",
        "ones_percentage = (ones_count / total_count) * 100\n",
        "\n",
        "# Print the results\n",
        "print(f\"Not fraud in undersampled data: {zeros_percentage:.2f}%\")\n",
        "print(f\"Fraud in undersampled data: {ones_percentage:.2f}%\\n\")\n",
        "print(\"Number of Not fraud points in undersampled data:\", zeros_count)\n",
        "print(\"Number of Fraud points in undersampled data:\", ones_count)"
      ],
      "metadata": {
        "colab": {
          "base_uri": "https://localhost:8080/"
        },
        "id": "BvtlHfQyhMkX",
        "outputId": "3d89ab87-eaac-49cb-f1e9-ffa248f2496f"
      },
      "execution_count": null,
      "outputs": [
        {
          "output_type": "stream",
          "name": "stdout",
          "text": [
            "Not fraud in undersampled data: 50.00%\n",
            "Fraud in undersampled data: 50.00%\n",
            "\n",
            "Number of Not fraud points in undersampled data: 106\n",
            "Number of Fraud points in undersampled data: 106\n"
          ]
        }
      ]
    },
    {
      "cell_type": "markdown",
      "source": [
        " SMOTE (Synthetic Minority Oversampling Technique)"
      ],
      "metadata": {
        "id": "GowxWDkkjuiM"
      }
    },
    {
      "cell_type": "code",
      "source": [
        "sm = SMOTE(random_state = 42, sampling_strategy='auto')\n",
        "X_sm, y_sm = sm.fit_resample(X_train_reshaped, y_train)\n",
        "\n",
        "zeros_count = (y_sm == 0).sum()\n",
        "ones_count = (y_sm == 1).sum()\n",
        "total_count = len(y_sm)\n",
        "\n",
        "zeros_percentage = (zeros_count / total_count) * 100\n",
        "ones_percentage = (ones_count / total_count) * 100\n",
        "\n",
        "# Print the results\n",
        "print(f\"Not fraud in oversampled data: {zeros_percentage:.2f}%\")\n",
        "print(f\"Fraud in oversampled data: {ones_percentage:.2f}%\\n\")\n",
        "print(\"Number of Not fraud points in oversampled data:\", zeros_count)\n",
        "print(\"Number of Fraud points in oversampled data:\", ones_count)"
      ],
      "metadata": {
        "colab": {
          "base_uri": "https://localhost:8080/"
        },
        "id": "8Ec-AGaOjrMs",
        "outputId": "ecda238f-9ede-4e45-d2a2-22cc91e4ba0e"
      },
      "execution_count": null,
      "outputs": [
        {
          "output_type": "stream",
          "name": "stdout",
          "text": [
            "Not fraud in oversampled data: 50.00%\n",
            "Fraud in oversampled data: 50.00%\n",
            "\n",
            "Number of Not fraud points in oversampled data: 44307\n",
            "Number of Fraud points in oversampled data: 44307\n"
          ]
        }
      ]
    },
    {
      "cell_type": "markdown",
      "source": [
        "Tomek Links Undersampling"
      ],
      "metadata": {
        "id": "FwIQLG5OjzjN"
      }
    },
    {
      "cell_type": "code",
      "source": [
        "tomek = TomekLinks(sampling_strategy='auto')\n",
        "\n",
        "X_tom, y_tom = tomek.fit_resample(X_train_reshaped, y_train)\n",
        "\n",
        "zeros_count = (y_tom == 0).sum()\n",
        "ones_count = (y_tom == 1).sum()\n",
        "total_count = len(y_tom)\n",
        "\n",
        "zeros_percentage = (zeros_count / total_count) * 100\n",
        "ones_percentage = (ones_count / total_count) * 100\n",
        "\n",
        "# Print the results\n",
        "print(f\"Not fraud in undersampled data: {zeros_percentage:.2f}%\")\n",
        "print(f\"Fraud in undersampled data: {ones_percentage:.2f}%\\n\")\n",
        "print(\"Number of Not fraud points in undersampled data:\", zeros_count)\n",
        "print(\"Number of Fraud points in undersampled data:\", ones_count)"
      ],
      "metadata": {
        "colab": {
          "base_uri": "https://localhost:8080/"
        },
        "id": "lAWn1cCWjw2L",
        "outputId": "648ffc89-c5b9-46a9-c2bb-3eaf489f8eb9"
      },
      "execution_count": null,
      "outputs": [
        {
          "output_type": "stream",
          "name": "stdout",
          "text": [
            "Not fraud in undersampled data: 99.76%\n",
            "Fraud in undersampled data: 0.24%\n",
            "\n",
            "Number of Not fraud points in undersampled data: 44303\n",
            "Number of Fraud points in undersampled data: 106\n"
          ]
        }
      ]
    },
    {
      "cell_type": "markdown",
      "source": [
        "SMOTE + Tomek Links Undersampling"
      ],
      "metadata": {
        "id": "CTzOP1blj5S0"
      }
    },
    {
      "cell_type": "code",
      "source": [
        "smt = SMOTETomek(random_state = 42, sampling_strategy='auto')\n",
        "X_smt, y_smt = smt.fit_resample(X_train_reshaped, y_train)\n",
        "\n",
        "zeros_count = (y_smt == 0).sum()\n",
        "ones_count = (y_smt == 1).sum()\n",
        "total_count = len(y_smt)\n",
        "\n",
        "zeros_percentage = (zeros_count / total_count) * 100\n",
        "ones_percentage = (ones_count / total_count) * 100\n",
        "\n",
        "# Print the results\n",
        "print(f\"Not fraud in undersampled data: {zeros_percentage:.2f}%\")\n",
        "print(f\"Fraud in undersampled data: {ones_percentage:.2f}%\\n\")\n",
        "print(\"Number of Not fraud points in undersampled data:\", zeros_count)\n",
        "print(\"Number of Fraud points in undersampled data:\", ones_count)"
      ],
      "metadata": {
        "colab": {
          "base_uri": "https://localhost:8080/"
        },
        "id": "XNi7j70vj2Sc",
        "outputId": "8cafbad6-a335-499a-a3aa-f59c0818a509"
      },
      "execution_count": null,
      "outputs": [
        {
          "output_type": "stream",
          "name": "stdout",
          "text": [
            "Not fraud in undersampled data: 50.00%\n",
            "Fraud in undersampled data: 50.00%\n",
            "\n",
            "Number of Not fraud points in undersampled data: 42110\n",
            "Number of Fraud points in undersampled data: 42110\n"
          ]
        }
      ]
    },
    {
      "cell_type": "markdown",
      "source": [
        "Cluster Centroids Undersampling"
      ],
      "metadata": {
        "id": "x1lWFId4j9fs"
      }
    },
    {
      "cell_type": "code",
      "source": [
        "from sklearn.cluster import MiniBatchKMeans\n",
        "cc = ClusterCentroids(\n",
        "    estimator=MiniBatchKMeans(n_init=1, random_state=0), random_state=42\n",
        ")\n",
        "\n",
        "X_cc, y_cc = cc.fit_resample(X_train_reshaped, y_train)\n",
        "\n",
        "zeros_count = (y_cc == 0).sum()\n",
        "ones_count = (y_cc == 1).sum()\n",
        "total_count = len(y_cc)\n",
        "\n",
        "zeros_percentage = (zeros_count / total_count) * 100\n",
        "ones_percentage = (ones_count / total_count) * 100\n",
        "\n",
        "# Print the results\n",
        "print(f\"Not fraud in undersampled data: {zeros_percentage:.2f}%\")\n",
        "print(f\"Fraud in undersampled data: {ones_percentage:.2f}%\\n\")\n",
        "print(\"Number of Not fraud points in undersampled data:\", zeros_count)\n",
        "print(\"Number of Fraud points in undersampled data:\", ones_count)"
      ],
      "metadata": {
        "colab": {
          "base_uri": "https://localhost:8080/"
        },
        "id": "Fy_upAubj7nw",
        "outputId": "9812c46e-5a90-42cb-9150-e2e0716cc37e"
      },
      "execution_count": null,
      "outputs": [
        {
          "output_type": "stream",
          "name": "stdout",
          "text": [
            "Not fraud in undersampled data: 50.00%\n",
            "Fraud in undersampled data: 50.00%\n",
            "\n",
            "Number of Not fraud points in undersampled data: 106\n",
            "Number of Fraud points in undersampled data: 106\n"
          ]
        }
      ]
    },
    {
      "cell_type": "markdown",
      "source": [
        "Adaptive Synthetic Sampling (ADASYN) Oversampling"
      ],
      "metadata": {
        "id": "AxKiku5ykDA8"
      }
    },
    {
      "cell_type": "code",
      "source": [
        "ada = ADASYN(random_state=42)\n",
        "X_ada, y_ada = ada.fit_resample(X_train_reshaped, y_train)\n",
        "\n",
        "zeros_count = (y_ada == 0).sum()\n",
        "ones_count = (y_ada == 1).sum()\n",
        "total_count = len(y_ada)\n",
        "\n",
        "zeros_percentage = (zeros_count / total_count) * 100\n",
        "ones_percentage = (ones_count / total_count) * 100\n",
        "\n",
        "# Print the results\n",
        "print(f\"Not fraud in oversampled data: {zeros_percentage:.2f}%\")\n",
        "print(f\"Fraud in oversampled data: {ones_percentage:.2f}%\\n\")\n",
        "print(\"Number of Not fraud points in oversampled data:\", zeros_count)\n",
        "print(\"Number of Fraud points in oversampled data:\", ones_count)"
      ],
      "metadata": {
        "colab": {
          "base_uri": "https://localhost:8080/"
        },
        "id": "uCv3UhjUkAJQ",
        "outputId": "b95b8bea-e45c-4972-a1c0-3dae93596c25"
      },
      "execution_count": null,
      "outputs": [
        {
          "output_type": "stream",
          "name": "stdout",
          "text": [
            "Not fraud in oversampled data: 50.00%\n",
            "Fraud in oversampled data: 50.00%\n",
            "\n",
            "Number of Not fraud points in oversampled data: 44307\n",
            "Number of Fraud points in oversampled data: 44306\n"
          ]
        }
      ]
    },
    {
      "cell_type": "markdown",
      "source": [
        "Edited Nearest Neighbours Undersampling"
      ],
      "metadata": {
        "id": "0ikq1mQXkJx2"
      }
    },
    {
      "cell_type": "code",
      "source": [
        "enn = EditedNearestNeighbours()\n",
        "X_enn, y_enn = enn.fit_resample(X_train_reshaped, y_train)\n",
        "\n",
        "zeros_count = (y_enn == 0).sum()\n",
        "ones_count = (y_enn == 1).sum()\n",
        "total_count = len(y_enn)\n",
        "\n",
        "zeros_percentage = (zeros_count / total_count) * 100\n",
        "ones_percentage = (ones_count / total_count) * 100\n",
        "\n",
        "# Print the results\n",
        "print(f\"Not fraud in undersampled data: {zeros_percentage:.2f}%\")\n",
        "print(f\"Fraud in undersampled data: {ones_percentage:.2f}%\\n\")\n",
        "print(\"Number of Not fraud points in undersampled data:\", zeros_count)\n",
        "print(\"Number of Fraud points in undersampled data:\", ones_count)"
      ],
      "metadata": {
        "colab": {
          "base_uri": "https://localhost:8080/"
        },
        "id": "SNItQDoYkF4Z",
        "outputId": "edcf363a-d8a2-42c2-bbf0-b5d5171f6d05"
      },
      "execution_count": null,
      "outputs": [
        {
          "output_type": "stream",
          "name": "stdout",
          "text": [
            "Not fraud in undersampled data: 99.76%\n",
            "Fraud in undersampled data: 0.24%\n",
            "\n",
            "Number of Not fraud points in undersampled data: 44233\n",
            "Number of Fraud points in undersampled data: 106\n"
          ]
        }
      ]
    },
    {
      "cell_type": "markdown",
      "source": [
        "Comparing to original training data"
      ],
      "metadata": {
        "id": "wdTJ0sZOkV8O"
      }
    },
    {
      "cell_type": "code",
      "source": [
        "print(f\"Not fraud in the original training data: {zeros_percentage_or:.2f}%\")\n",
        "print(f\"Fraud in the original training data: {ones_percentage_or:.2f}%\\n\")\n",
        "\n",
        "print(\"Number Fraud points in the original training data:\", zeros_count_or)\n",
        "print(\"Number Not fraud points in the original training data:\", ones_count_or)"
      ],
      "metadata": {
        "colab": {
          "base_uri": "https://localhost:8080/"
        },
        "id": "SbOhVAf_kMAo",
        "outputId": "2d70f117-c053-4760-9d23-99e93d2a5477"
      },
      "execution_count": null,
      "outputs": [
        {
          "output_type": "stream",
          "name": "stdout",
          "text": [
            "Not fraud in the original training data: 99.76%\n",
            "Fraud in the original training data: 0.24%\n",
            "\n",
            "Number Fraud points in the original training data: 44307\n",
            "Number Not fraud points in the original training data: 106\n"
          ]
        }
      ]
    },
    {
      "cell_type": "markdown",
      "source": [
        "Easy Ensemble of AdaBoost Learners"
      ],
      "metadata": {
        "id": "8WgWBGT9kcf_"
      }
    },
    {
      "cell_type": "code",
      "source": [
        "eec = EasyEnsembleClassifier(random_state=42, n_estimators=10, base_estimator=AdaBoostClassifier())\n",
        "eec.fit(X_train_reshaped, y_train)\n",
        "\n",
        "y_pred_eec = eec.predict(X_test_reshaped)"
      ],
      "metadata": {
        "id": "-UGg9i31kaEQ"
      },
      "execution_count": null,
      "outputs": []
    },
    {
      "cell_type": "markdown",
      "source": [
        "RUSBoost"
      ],
      "metadata": {
        "id": "q7i9V3RtkhEu"
      }
    },
    {
      "cell_type": "code",
      "source": [
        "rusboost = RUSBoostClassifier(base_estimator=DecisionTreeClassifier(max_depth=1),\n",
        "                              n_estimators=100, sampling_strategy='auto', random_state=42)\n",
        "\n",
        "# Fit the classifier\n",
        "rusboost.fit(X_train_reshaped, y_train)\n",
        "\n",
        "y_pred_rus = rusboost.predict(X_test_reshaped)"
      ],
      "metadata": {
        "id": "wOfzTwFekef4"
      },
      "execution_count": null,
      "outputs": []
    },
    {
      "cell_type": "code",
      "source": [
        "acc=accuracy_score(y_pred_rus , y_test)"
      ],
      "metadata": {
        "id": "lE9t3YmElLs7"
      },
      "execution_count": null,
      "outputs": []
    },
    {
      "cell_type": "code",
      "source": [
        "acc"
      ],
      "metadata": {
        "colab": {
          "base_uri": "https://localhost:8080/"
        },
        "id": "hu9xuyTTl9BN",
        "outputId": "c97de945-8087-45ac-ff78-4cc2d1367dd1"
      },
      "execution_count": null,
      "outputs": [
        {
          "output_type": "execute_result",
          "data": {
            "text/plain": [
              "0.9005516154452324"
            ]
          },
          "metadata": {},
          "execution_count": 60
        }
      ]
    },
    {
      "cell_type": "markdown",
      "source": [
        "The model has 90 percent of accuracy."
      ],
      "metadata": {
        "id": "v1pSKzTxmIe9"
      }
    }
  ]
}